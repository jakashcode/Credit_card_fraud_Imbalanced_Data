{
 "cells": [
  {
   "cell_type": "markdown",
   "metadata": {},
   "source": [
    " Detect a mere 492 fraudulent transactions from 284,807 transactions in total. "
   ]
  },
  {
   "cell_type": "markdown",
   "metadata": {},
   "source": [
    "Load a CSV file using Pandas.\n",
    "Create train, validation, and test sets.\n",
    "Define and train a model using Keras (including setting class weights).\n",
    "Evaluate the model using various metrics (including precision and recall)."
   ]
  },
  {
   "cell_type": "code",
   "execution_count": 15,
   "metadata": {},
   "outputs": [],
   "source": [
    "from __future__ import absolute_import, division, print_function, unicode_literals"
   ]
  },
  {
   "cell_type": "code",
   "execution_count": 16,
   "metadata": {},
   "outputs": [],
   "source": [
    "try:\n",
    "  # %tensorflow_version only exists in Colab.\n",
    "  %tensorflow_version 2.x\n",
    "except Exception:\n",
    "    \n",
    "    pass"
   ]
  },
  {
   "cell_type": "code",
   "execution_count": 17,
   "metadata": {},
   "outputs": [],
   "source": [
    "!pip install -q imblearn"
   ]
  },
  {
   "cell_type": "code",
   "execution_count": 18,
   "metadata": {},
   "outputs": [],
   "source": [
    "import tensorflow as tf\n",
    "from tensorflow import keras\n",
    "\n",
    "import matplotlib.pyplot as plt\n",
    "import numpy as np\n",
    "import pandas as pd\n",
    "from sklearn.metrics import confusion_matrix\n",
    "from sklearn.model_selection import train_test_split\n",
    "from sklearn.preprocessing import StandardScaler\n",
    "from imblearn.over_sampling import SMOTE"
   ]
  },
  {
   "cell_type": "code",
   "execution_count": 19,
   "metadata": {},
   "outputs": [
    {
     "data": {
      "text/html": [
       "<div>\n",
       "<style scoped>\n",
       "    .dataframe tbody tr th:only-of-type {\n",
       "        vertical-align: middle;\n",
       "    }\n",
       "\n",
       "    .dataframe tbody tr th {\n",
       "        vertical-align: top;\n",
       "    }\n",
       "\n",
       "    .dataframe thead th {\n",
       "        text-align: right;\n",
       "    }\n",
       "</style>\n",
       "<table border=\"1\" class=\"dataframe\">\n",
       "  <thead>\n",
       "    <tr style=\"text-align: right;\">\n",
       "      <th></th>\n",
       "      <th>Time</th>\n",
       "      <th>V1</th>\n",
       "      <th>V2</th>\n",
       "      <th>V3</th>\n",
       "      <th>V4</th>\n",
       "      <th>V5</th>\n",
       "      <th>V6</th>\n",
       "      <th>V7</th>\n",
       "      <th>V8</th>\n",
       "      <th>V9</th>\n",
       "      <th>...</th>\n",
       "      <th>V21</th>\n",
       "      <th>V22</th>\n",
       "      <th>V23</th>\n",
       "      <th>V24</th>\n",
       "      <th>V25</th>\n",
       "      <th>V26</th>\n",
       "      <th>V27</th>\n",
       "      <th>V28</th>\n",
       "      <th>Amount</th>\n",
       "      <th>Class</th>\n",
       "    </tr>\n",
       "  </thead>\n",
       "  <tbody>\n",
       "    <tr>\n",
       "      <th>0</th>\n",
       "      <td>0.0</td>\n",
       "      <td>-1.359807</td>\n",
       "      <td>-0.072781</td>\n",
       "      <td>2.536347</td>\n",
       "      <td>1.378155</td>\n",
       "      <td>-0.338321</td>\n",
       "      <td>0.462388</td>\n",
       "      <td>0.239599</td>\n",
       "      <td>0.098698</td>\n",
       "      <td>0.363787</td>\n",
       "      <td>...</td>\n",
       "      <td>-0.018307</td>\n",
       "      <td>0.277838</td>\n",
       "      <td>-0.110474</td>\n",
       "      <td>0.066928</td>\n",
       "      <td>0.128539</td>\n",
       "      <td>-0.189115</td>\n",
       "      <td>0.133558</td>\n",
       "      <td>-0.021053</td>\n",
       "      <td>149.62</td>\n",
       "      <td>0</td>\n",
       "    </tr>\n",
       "    <tr>\n",
       "      <th>1</th>\n",
       "      <td>0.0</td>\n",
       "      <td>1.191857</td>\n",
       "      <td>0.266151</td>\n",
       "      <td>0.166480</td>\n",
       "      <td>0.448154</td>\n",
       "      <td>0.060018</td>\n",
       "      <td>-0.082361</td>\n",
       "      <td>-0.078803</td>\n",
       "      <td>0.085102</td>\n",
       "      <td>-0.255425</td>\n",
       "      <td>...</td>\n",
       "      <td>-0.225775</td>\n",
       "      <td>-0.638672</td>\n",
       "      <td>0.101288</td>\n",
       "      <td>-0.339846</td>\n",
       "      <td>0.167170</td>\n",
       "      <td>0.125895</td>\n",
       "      <td>-0.008983</td>\n",
       "      <td>0.014724</td>\n",
       "      <td>2.69</td>\n",
       "      <td>0</td>\n",
       "    </tr>\n",
       "    <tr>\n",
       "      <th>2</th>\n",
       "      <td>1.0</td>\n",
       "      <td>-1.358354</td>\n",
       "      <td>-1.340163</td>\n",
       "      <td>1.773209</td>\n",
       "      <td>0.379780</td>\n",
       "      <td>-0.503198</td>\n",
       "      <td>1.800499</td>\n",
       "      <td>0.791461</td>\n",
       "      <td>0.247676</td>\n",
       "      <td>-1.514654</td>\n",
       "      <td>...</td>\n",
       "      <td>0.247998</td>\n",
       "      <td>0.771679</td>\n",
       "      <td>0.909412</td>\n",
       "      <td>-0.689281</td>\n",
       "      <td>-0.327642</td>\n",
       "      <td>-0.139097</td>\n",
       "      <td>-0.055353</td>\n",
       "      <td>-0.059752</td>\n",
       "      <td>378.66</td>\n",
       "      <td>0</td>\n",
       "    </tr>\n",
       "    <tr>\n",
       "      <th>3</th>\n",
       "      <td>1.0</td>\n",
       "      <td>-0.966272</td>\n",
       "      <td>-0.185226</td>\n",
       "      <td>1.792993</td>\n",
       "      <td>-0.863291</td>\n",
       "      <td>-0.010309</td>\n",
       "      <td>1.247203</td>\n",
       "      <td>0.237609</td>\n",
       "      <td>0.377436</td>\n",
       "      <td>-1.387024</td>\n",
       "      <td>...</td>\n",
       "      <td>-0.108300</td>\n",
       "      <td>0.005274</td>\n",
       "      <td>-0.190321</td>\n",
       "      <td>-1.175575</td>\n",
       "      <td>0.647376</td>\n",
       "      <td>-0.221929</td>\n",
       "      <td>0.062723</td>\n",
       "      <td>0.061458</td>\n",
       "      <td>123.50</td>\n",
       "      <td>0</td>\n",
       "    </tr>\n",
       "    <tr>\n",
       "      <th>4</th>\n",
       "      <td>2.0</td>\n",
       "      <td>-1.158233</td>\n",
       "      <td>0.877737</td>\n",
       "      <td>1.548718</td>\n",
       "      <td>0.403034</td>\n",
       "      <td>-0.407193</td>\n",
       "      <td>0.095921</td>\n",
       "      <td>0.592941</td>\n",
       "      <td>-0.270533</td>\n",
       "      <td>0.817739</td>\n",
       "      <td>...</td>\n",
       "      <td>-0.009431</td>\n",
       "      <td>0.798278</td>\n",
       "      <td>-0.137458</td>\n",
       "      <td>0.141267</td>\n",
       "      <td>-0.206010</td>\n",
       "      <td>0.502292</td>\n",
       "      <td>0.219422</td>\n",
       "      <td>0.215153</td>\n",
       "      <td>69.99</td>\n",
       "      <td>0</td>\n",
       "    </tr>\n",
       "  </tbody>\n",
       "</table>\n",
       "<p>5 rows × 31 columns</p>\n",
       "</div>"
      ],
      "text/plain": [
       "   Time        V1        V2        V3        V4        V5        V6        V7  \\\n",
       "0   0.0 -1.359807 -0.072781  2.536347  1.378155 -0.338321  0.462388  0.239599   \n",
       "1   0.0  1.191857  0.266151  0.166480  0.448154  0.060018 -0.082361 -0.078803   \n",
       "2   1.0 -1.358354 -1.340163  1.773209  0.379780 -0.503198  1.800499  0.791461   \n",
       "3   1.0 -0.966272 -0.185226  1.792993 -0.863291 -0.010309  1.247203  0.237609   \n",
       "4   2.0 -1.158233  0.877737  1.548718  0.403034 -0.407193  0.095921  0.592941   \n",
       "\n",
       "         V8        V9  ...       V21       V22       V23       V24       V25  \\\n",
       "0  0.098698  0.363787  ... -0.018307  0.277838 -0.110474  0.066928  0.128539   \n",
       "1  0.085102 -0.255425  ... -0.225775 -0.638672  0.101288 -0.339846  0.167170   \n",
       "2  0.247676 -1.514654  ...  0.247998  0.771679  0.909412 -0.689281 -0.327642   \n",
       "3  0.377436 -1.387024  ... -0.108300  0.005274 -0.190321 -1.175575  0.647376   \n",
       "4 -0.270533  0.817739  ... -0.009431  0.798278 -0.137458  0.141267 -0.206010   \n",
       "\n",
       "        V26       V27       V28  Amount  Class  \n",
       "0 -0.189115  0.133558 -0.021053  149.62      0  \n",
       "1  0.125895 -0.008983  0.014724    2.69      0  \n",
       "2 -0.139097 -0.055353 -0.059752  378.66      0  \n",
       "3 -0.221929  0.062723  0.061458  123.50      0  \n",
       "4  0.502292  0.219422  0.215153   69.99      0  \n",
       "\n",
       "[5 rows x 31 columns]"
      ]
     },
     "execution_count": 19,
     "metadata": {},
     "output_type": "execute_result"
    }
   ],
   "source": [
    "\n",
    "\n",
    "\n",
    "raw_df = pd.read_csv('https://storage.googleapis.com/download.tensorflow.org/data/creditcard.csv')\n",
    "raw_df.head()"
   ]
  },
  {
   "cell_type": "code",
   "execution_count": 20,
   "metadata": {},
   "outputs": [
    {
     "data": {
      "text/html": [
       "<div>\n",
       "<style scoped>\n",
       "    .dataframe tbody tr th:only-of-type {\n",
       "        vertical-align: middle;\n",
       "    }\n",
       "\n",
       "    .dataframe tbody tr th {\n",
       "        vertical-align: top;\n",
       "    }\n",
       "\n",
       "    .dataframe thead th {\n",
       "        text-align: right;\n",
       "    }\n",
       "</style>\n",
       "<table border=\"1\" class=\"dataframe\">\n",
       "  <thead>\n",
       "    <tr style=\"text-align: right;\">\n",
       "      <th></th>\n",
       "      <th>Time</th>\n",
       "      <th>V1</th>\n",
       "      <th>V2</th>\n",
       "      <th>V3</th>\n",
       "      <th>V4</th>\n",
       "      <th>V5</th>\n",
       "      <th>V6</th>\n",
       "      <th>V7</th>\n",
       "      <th>V8</th>\n",
       "      <th>V9</th>\n",
       "      <th>...</th>\n",
       "      <th>V21</th>\n",
       "      <th>V22</th>\n",
       "      <th>V23</th>\n",
       "      <th>V24</th>\n",
       "      <th>V25</th>\n",
       "      <th>V26</th>\n",
       "      <th>V27</th>\n",
       "      <th>V28</th>\n",
       "      <th>Amount</th>\n",
       "      <th>Class</th>\n",
       "    </tr>\n",
       "  </thead>\n",
       "  <tbody>\n",
       "    <tr>\n",
       "      <th>count</th>\n",
       "      <td>284807.000000</td>\n",
       "      <td>2.848070e+05</td>\n",
       "      <td>2.848070e+05</td>\n",
       "      <td>2.848070e+05</td>\n",
       "      <td>2.848070e+05</td>\n",
       "      <td>2.848070e+05</td>\n",
       "      <td>2.848070e+05</td>\n",
       "      <td>2.848070e+05</td>\n",
       "      <td>2.848070e+05</td>\n",
       "      <td>2.848070e+05</td>\n",
       "      <td>...</td>\n",
       "      <td>2.848070e+05</td>\n",
       "      <td>2.848070e+05</td>\n",
       "      <td>2.848070e+05</td>\n",
       "      <td>2.848070e+05</td>\n",
       "      <td>2.848070e+05</td>\n",
       "      <td>2.848070e+05</td>\n",
       "      <td>2.848070e+05</td>\n",
       "      <td>2.848070e+05</td>\n",
       "      <td>284807.000000</td>\n",
       "      <td>284807.000000</td>\n",
       "    </tr>\n",
       "    <tr>\n",
       "      <th>mean</th>\n",
       "      <td>94813.859575</td>\n",
       "      <td>3.919560e-15</td>\n",
       "      <td>5.688174e-16</td>\n",
       "      <td>-8.769071e-15</td>\n",
       "      <td>2.782312e-15</td>\n",
       "      <td>-1.552563e-15</td>\n",
       "      <td>2.010663e-15</td>\n",
       "      <td>-1.694249e-15</td>\n",
       "      <td>-1.927028e-16</td>\n",
       "      <td>-3.137024e-15</td>\n",
       "      <td>...</td>\n",
       "      <td>1.537294e-16</td>\n",
       "      <td>7.959909e-16</td>\n",
       "      <td>5.367590e-16</td>\n",
       "      <td>4.458112e-15</td>\n",
       "      <td>1.453003e-15</td>\n",
       "      <td>1.699104e-15</td>\n",
       "      <td>-3.660161e-16</td>\n",
       "      <td>-1.206049e-16</td>\n",
       "      <td>88.349619</td>\n",
       "      <td>0.001727</td>\n",
       "    </tr>\n",
       "    <tr>\n",
       "      <th>std</th>\n",
       "      <td>47488.145955</td>\n",
       "      <td>1.958696e+00</td>\n",
       "      <td>1.651309e+00</td>\n",
       "      <td>1.516255e+00</td>\n",
       "      <td>1.415869e+00</td>\n",
       "      <td>1.380247e+00</td>\n",
       "      <td>1.332271e+00</td>\n",
       "      <td>1.237094e+00</td>\n",
       "      <td>1.194353e+00</td>\n",
       "      <td>1.098632e+00</td>\n",
       "      <td>...</td>\n",
       "      <td>7.345240e-01</td>\n",
       "      <td>7.257016e-01</td>\n",
       "      <td>6.244603e-01</td>\n",
       "      <td>6.056471e-01</td>\n",
       "      <td>5.212781e-01</td>\n",
       "      <td>4.822270e-01</td>\n",
       "      <td>4.036325e-01</td>\n",
       "      <td>3.300833e-01</td>\n",
       "      <td>250.120109</td>\n",
       "      <td>0.041527</td>\n",
       "    </tr>\n",
       "    <tr>\n",
       "      <th>min</th>\n",
       "      <td>0.000000</td>\n",
       "      <td>-5.640751e+01</td>\n",
       "      <td>-7.271573e+01</td>\n",
       "      <td>-4.832559e+01</td>\n",
       "      <td>-5.683171e+00</td>\n",
       "      <td>-1.137433e+02</td>\n",
       "      <td>-2.616051e+01</td>\n",
       "      <td>-4.355724e+01</td>\n",
       "      <td>-7.321672e+01</td>\n",
       "      <td>-1.343407e+01</td>\n",
       "      <td>...</td>\n",
       "      <td>-3.483038e+01</td>\n",
       "      <td>-1.093314e+01</td>\n",
       "      <td>-4.480774e+01</td>\n",
       "      <td>-2.836627e+00</td>\n",
       "      <td>-1.029540e+01</td>\n",
       "      <td>-2.604551e+00</td>\n",
       "      <td>-2.256568e+01</td>\n",
       "      <td>-1.543008e+01</td>\n",
       "      <td>0.000000</td>\n",
       "      <td>0.000000</td>\n",
       "    </tr>\n",
       "    <tr>\n",
       "      <th>25%</th>\n",
       "      <td>54201.500000</td>\n",
       "      <td>-9.203734e-01</td>\n",
       "      <td>-5.985499e-01</td>\n",
       "      <td>-8.903648e-01</td>\n",
       "      <td>-8.486401e-01</td>\n",
       "      <td>-6.915971e-01</td>\n",
       "      <td>-7.682956e-01</td>\n",
       "      <td>-5.540759e-01</td>\n",
       "      <td>-2.086297e-01</td>\n",
       "      <td>-6.430976e-01</td>\n",
       "      <td>...</td>\n",
       "      <td>-2.283949e-01</td>\n",
       "      <td>-5.423504e-01</td>\n",
       "      <td>-1.618463e-01</td>\n",
       "      <td>-3.545861e-01</td>\n",
       "      <td>-3.171451e-01</td>\n",
       "      <td>-3.269839e-01</td>\n",
       "      <td>-7.083953e-02</td>\n",
       "      <td>-5.295979e-02</td>\n",
       "      <td>5.600000</td>\n",
       "      <td>0.000000</td>\n",
       "    </tr>\n",
       "    <tr>\n",
       "      <th>50%</th>\n",
       "      <td>84692.000000</td>\n",
       "      <td>1.810880e-02</td>\n",
       "      <td>6.548556e-02</td>\n",
       "      <td>1.798463e-01</td>\n",
       "      <td>-1.984653e-02</td>\n",
       "      <td>-5.433583e-02</td>\n",
       "      <td>-2.741871e-01</td>\n",
       "      <td>4.010308e-02</td>\n",
       "      <td>2.235804e-02</td>\n",
       "      <td>-5.142873e-02</td>\n",
       "      <td>...</td>\n",
       "      <td>-2.945017e-02</td>\n",
       "      <td>6.781943e-03</td>\n",
       "      <td>-1.119293e-02</td>\n",
       "      <td>4.097606e-02</td>\n",
       "      <td>1.659350e-02</td>\n",
       "      <td>-5.213911e-02</td>\n",
       "      <td>1.342146e-03</td>\n",
       "      <td>1.124383e-02</td>\n",
       "      <td>22.000000</td>\n",
       "      <td>0.000000</td>\n",
       "    </tr>\n",
       "    <tr>\n",
       "      <th>75%</th>\n",
       "      <td>139320.500000</td>\n",
       "      <td>1.315642e+00</td>\n",
       "      <td>8.037239e-01</td>\n",
       "      <td>1.027196e+00</td>\n",
       "      <td>7.433413e-01</td>\n",
       "      <td>6.119264e-01</td>\n",
       "      <td>3.985649e-01</td>\n",
       "      <td>5.704361e-01</td>\n",
       "      <td>3.273459e-01</td>\n",
       "      <td>5.971390e-01</td>\n",
       "      <td>...</td>\n",
       "      <td>1.863772e-01</td>\n",
       "      <td>5.285536e-01</td>\n",
       "      <td>1.476421e-01</td>\n",
       "      <td>4.395266e-01</td>\n",
       "      <td>3.507156e-01</td>\n",
       "      <td>2.409522e-01</td>\n",
       "      <td>9.104512e-02</td>\n",
       "      <td>7.827995e-02</td>\n",
       "      <td>77.165000</td>\n",
       "      <td>0.000000</td>\n",
       "    </tr>\n",
       "    <tr>\n",
       "      <th>max</th>\n",
       "      <td>172792.000000</td>\n",
       "      <td>2.454930e+00</td>\n",
       "      <td>2.205773e+01</td>\n",
       "      <td>9.382558e+00</td>\n",
       "      <td>1.687534e+01</td>\n",
       "      <td>3.480167e+01</td>\n",
       "      <td>7.330163e+01</td>\n",
       "      <td>1.205895e+02</td>\n",
       "      <td>2.000721e+01</td>\n",
       "      <td>1.559499e+01</td>\n",
       "      <td>...</td>\n",
       "      <td>2.720284e+01</td>\n",
       "      <td>1.050309e+01</td>\n",
       "      <td>2.252841e+01</td>\n",
       "      <td>4.584549e+00</td>\n",
       "      <td>7.519589e+00</td>\n",
       "      <td>3.517346e+00</td>\n",
       "      <td>3.161220e+01</td>\n",
       "      <td>3.384781e+01</td>\n",
       "      <td>25691.160000</td>\n",
       "      <td>1.000000</td>\n",
       "    </tr>\n",
       "  </tbody>\n",
       "</table>\n",
       "<p>8 rows × 31 columns</p>\n",
       "</div>"
      ],
      "text/plain": [
       "                Time            V1            V2            V3            V4  \\\n",
       "count  284807.000000  2.848070e+05  2.848070e+05  2.848070e+05  2.848070e+05   \n",
       "mean    94813.859575  3.919560e-15  5.688174e-16 -8.769071e-15  2.782312e-15   \n",
       "std     47488.145955  1.958696e+00  1.651309e+00  1.516255e+00  1.415869e+00   \n",
       "min         0.000000 -5.640751e+01 -7.271573e+01 -4.832559e+01 -5.683171e+00   \n",
       "25%     54201.500000 -9.203734e-01 -5.985499e-01 -8.903648e-01 -8.486401e-01   \n",
       "50%     84692.000000  1.810880e-02  6.548556e-02  1.798463e-01 -1.984653e-02   \n",
       "75%    139320.500000  1.315642e+00  8.037239e-01  1.027196e+00  7.433413e-01   \n",
       "max    172792.000000  2.454930e+00  2.205773e+01  9.382558e+00  1.687534e+01   \n",
       "\n",
       "                 V5            V6            V7            V8            V9  \\\n",
       "count  2.848070e+05  2.848070e+05  2.848070e+05  2.848070e+05  2.848070e+05   \n",
       "mean  -1.552563e-15  2.010663e-15 -1.694249e-15 -1.927028e-16 -3.137024e-15   \n",
       "std    1.380247e+00  1.332271e+00  1.237094e+00  1.194353e+00  1.098632e+00   \n",
       "min   -1.137433e+02 -2.616051e+01 -4.355724e+01 -7.321672e+01 -1.343407e+01   \n",
       "25%   -6.915971e-01 -7.682956e-01 -5.540759e-01 -2.086297e-01 -6.430976e-01   \n",
       "50%   -5.433583e-02 -2.741871e-01  4.010308e-02  2.235804e-02 -5.142873e-02   \n",
       "75%    6.119264e-01  3.985649e-01  5.704361e-01  3.273459e-01  5.971390e-01   \n",
       "max    3.480167e+01  7.330163e+01  1.205895e+02  2.000721e+01  1.559499e+01   \n",
       "\n",
       "       ...           V21           V22           V23           V24  \\\n",
       "count  ...  2.848070e+05  2.848070e+05  2.848070e+05  2.848070e+05   \n",
       "mean   ...  1.537294e-16  7.959909e-16  5.367590e-16  4.458112e-15   \n",
       "std    ...  7.345240e-01  7.257016e-01  6.244603e-01  6.056471e-01   \n",
       "min    ... -3.483038e+01 -1.093314e+01 -4.480774e+01 -2.836627e+00   \n",
       "25%    ... -2.283949e-01 -5.423504e-01 -1.618463e-01 -3.545861e-01   \n",
       "50%    ... -2.945017e-02  6.781943e-03 -1.119293e-02  4.097606e-02   \n",
       "75%    ...  1.863772e-01  5.285536e-01  1.476421e-01  4.395266e-01   \n",
       "max    ...  2.720284e+01  1.050309e+01  2.252841e+01  4.584549e+00   \n",
       "\n",
       "                V25           V26           V27           V28         Amount  \\\n",
       "count  2.848070e+05  2.848070e+05  2.848070e+05  2.848070e+05  284807.000000   \n",
       "mean   1.453003e-15  1.699104e-15 -3.660161e-16 -1.206049e-16      88.349619   \n",
       "std    5.212781e-01  4.822270e-01  4.036325e-01  3.300833e-01     250.120109   \n",
       "min   -1.029540e+01 -2.604551e+00 -2.256568e+01 -1.543008e+01       0.000000   \n",
       "25%   -3.171451e-01 -3.269839e-01 -7.083953e-02 -5.295979e-02       5.600000   \n",
       "50%    1.659350e-02 -5.213911e-02  1.342146e-03  1.124383e-02      22.000000   \n",
       "75%    3.507156e-01  2.409522e-01  9.104512e-02  7.827995e-02      77.165000   \n",
       "max    7.519589e+00  3.517346e+00  3.161220e+01  3.384781e+01   25691.160000   \n",
       "\n",
       "               Class  \n",
       "count  284807.000000  \n",
       "mean        0.001727  \n",
       "std         0.041527  \n",
       "min         0.000000  \n",
       "25%         0.000000  \n",
       "50%         0.000000  \n",
       "75%         0.000000  \n",
       "max         1.000000  \n",
       "\n",
       "[8 rows x 31 columns]"
      ]
     },
     "execution_count": 20,
     "metadata": {},
     "output_type": "execute_result"
    }
   ],
   "source": [
    "raw_df.describe()"
   ]
  },
  {
   "cell_type": "markdown",
   "metadata": {},
   "source": [
    "Split the dataframe into train, validation, and test\n",
    "Split the dataset into train, validation, and test sets. \n",
    "The validation set is used during the model fitting to evaluate the loss and any metrics, however the model is not fit with this data. \n",
    "The test set is completely unused during the training phase and is only used at the end to evaluate how well the model generalizes to new data. \n",
    "This is especially important with imbalanced datasets where overfitting is a significant concern from the lack of training data."
   ]
  },
  {
   "cell_type": "code",
   "execution_count": 21,
   "metadata": {},
   "outputs": [
    {
     "name": "stdout",
     "output_type": "stream",
     "text": [
      "Training labels shape: (182276,)\n",
      "Validation labels shape: (45569,)\n",
      "Test labels shape: (56962,)\n",
      "Training features shape: (182276, 30)\n",
      "Validation features shape: (45569, 30)\n",
      "Test features shape: (56962, 30)\n"
     ]
    }
   ],
   "source": [
    "# Use a utility from sklearn to split and shuffle our dataset.\n",
    "train_df, test_df = train_test_split(raw_df, test_size=0.2)\n",
    "train_df, val_df = train_test_split(train_df, test_size=0.2)\n",
    "\n",
    "# Form np arrays of labels and features.\n",
    "train_labels = np.array(train_df.pop('Class'))\n",
    "val_labels = np.array(val_df.pop('Class'))\n",
    "test_labels = np.array(test_df.pop('Class'))\n",
    "\n",
    "train_features = np.array(train_df)\n",
    "val_features = np.array(val_df)\n",
    "test_features = np.array(test_df)\n",
    "\n",
    "# Normalize the input features using the sklearn StandardScaler.\n",
    "# This will set the mean to 0 and standard deviation to 1.\n",
    "scaler = StandardScaler()\n",
    "train_features = scaler.fit_transform(train_features)\n",
    "val_features = scaler.transform(val_features)\n",
    "test_features = scaler.transform(test_features)\n",
    "\n",
    "print('Training labels shape:', train_labels.shape)\n",
    "print('Validation labels shape:', val_labels.shape)\n",
    "print('Test labels shape:', test_labels.shape)\n",
    "\n",
    "print('Training features shape:', train_features.shape)\n",
    "print('Validation features shape:', val_features.shape)\n",
    "print('Test features shape:', test_features.shape)"
   ]
  },
  {
   "cell_type": "code",
   "execution_count": 22,
   "metadata": {},
   "outputs": [],
   "source": [
    "bincount=np.bincount(train_labels)"
   ]
  },
  {
   "cell_type": "code",
   "execution_count": 23,
   "metadata": {},
   "outputs": [
    {
     "data": {
      "text/plain": [
       "array([181948,    328], dtype=int64)"
      ]
     },
     "execution_count": 23,
     "metadata": {},
     "output_type": "execute_result"
    }
   ],
   "source": [
    "bincount"
   ]
  },
  {
   "cell_type": "markdown",
   "metadata": {},
   "source": [
    "Examine the class label imbalance\n",
    "Let's look at the dataset imbalance:"
   ]
  },
  {
   "cell_type": "code",
   "execution_count": 24,
   "metadata": {},
   "outputs": [
    {
     "name": "stdout",
     "output_type": "stream",
     "text": [
      "181948\n"
     ]
    }
   ],
   "source": [
    "neg, pos = np.bincount(train_labels)\n",
    "print(neg)\n",
    "\n"
   ]
  },
  {
   "cell_type": "code",
   "execution_count": 25,
   "metadata": {},
   "outputs": [
    {
     "name": "stdout",
     "output_type": "stream",
     "text": [
      "328\n"
     ]
    }
   ],
   "source": [
    "print(pos)"
   ]
  },
  {
   "cell_type": "code",
   "execution_count": 26,
   "metadata": {},
   "outputs": [
    {
     "name": "stdout",
     "output_type": "stream",
     "text": [
      "328 positive samples out of 182276 training samples (0.18% of total)\n"
     ]
    }
   ],
   "source": [
    "total = neg + pos\n",
    "print('{} positive samples out of {} training samples ({:.2f}% of total)'.format(\n",
    "    pos, total, 100 * pos / total))"
   ]
  },
  {
   "cell_type": "markdown",
   "metadata": {},
   "source": [
    "Define the model and metrics\n",
    "Define a function that creates a simple neural network with three densely connected hidden layers, \n",
    "an output sigmoid layer that returns the probability of a transaction being fraudulent,\n",
    "\n",
    "and two dropout layers as an effective way to reduce overfitting."
   ]
  },
  {
   "cell_type": "code",
   "execution_count": 27,
   "metadata": {},
   "outputs": [],
   "source": [
    "def make_model():\n",
    "    model = keras.Sequential([\n",
    "      keras.layers.Dense(256, activation='relu',\n",
    "                         input_shape=(train_features.shape[-1],)),\n",
    "      keras.layers.Dense(256, activation='relu'),\n",
    "      keras.layers.Dropout(0.3),\n",
    "      keras.layers.Dense(256, activation='relu'),\n",
    "      keras.layers.Dropout(0.3),\n",
    "      keras.layers.Dense(1, activation='sigmoid'),\n",
    "  ])\n",
    "    metrics = [\n",
    "      keras.metrics.Accuracy(name='accuracy'),\n",
    "      keras.metrics.TruePositives(name='tp'),\n",
    "      keras.metrics.FalsePositives(name='fp'),\n",
    "      keras.metrics.TrueNegatives(name='tn'),\n",
    "      keras.metrics.FalseNegatives(name='fn'),\n",
    "      keras.metrics.Precision(name='precision'),\n",
    "      keras.metrics.Recall(name='recall')\n",
    "  ]\n",
    "    model.compile(\n",
    "      optimizer='adam',\n",
    "      loss='binary_crossentropy',\n",
    "      metrics=metrics)\n",
    "    \n",
    "    return model\n",
    "\n",
    "\n"
   ]
  },
  {
   "cell_type": "markdown",
   "metadata": {},
   "source": [
    "Understanding useful metrics\n",
    "Notice that there are a few metrics defined above that can be computed by the model that will be helpful when evaluating the performance.\n",
    "\n",
    "False negatives and false positives are samples that were incorrectly classified\n",
    "True negatives and true positives are samples that were correctly classified\n",
    "Accuracy is the percentage of examples correctly classified > \n",
    "Precision is the percentage of predicted positives that were correctly classified > \n",
    "Recall is the percentage of actual positives that were correctly classified > \n",
    "AUC refers to the Area Under the Curve of a Receiver Operating Characteristic curve (ROC-AUC). \n",
    "This metric is equal to the probability that a classifier will rank a random positive sample higher than than a random negative sample."
   ]
  },
  {
   "cell_type": "markdown",
   "metadata": {},
   "source": [
    "Train a baseline model\n",
    "Now create and train your model using the function that was defined earlier. Notice that the model is fit using a larger than default batch size of 2048, this is important to ensure that each batch has a decent chance of containing a few positive samples. If the batch size was too small, they would likely have no fraudelent transactions to learn from."
   ]
  },
  {
   "cell_type": "code",
   "execution_count": 28,
   "metadata": {},
   "outputs": [
    {
     "name": "stdout",
     "output_type": "stream",
     "text": [
      "Train on 182276 samples, validate on 45569 samples\n",
      "WARNING:tensorflow:From C:\\Users\\akash\\Anaconda3\\lib\\site-packages\\tensorflow\\python\\ops\\math_ops.py:3066: to_int32 (from tensorflow.python.ops.math_ops) is deprecated and will be removed in a future version.\n",
      "Instructions for updating:\n",
      "Use tf.cast instead.\n",
      "Epoch 1/10\n",
      "182276/182276 [==============================] - 4s 20us/sample - loss: 0.0472 - accuracy: 0.3993 - tp: 0.0000e+00 - fp: 725.0000 - tn: 181223.0000 - fn: 328.0000 - precision: 0.0000e+00 - recall: 0.0000e+00 - val_loss: 0.0257 - val_accuracy: 0.5294 - val_tp: 0.0000e+00 - val_fp: 0.0000e+00 - val_tn: 45496.0000 - val_fn: 73.0000 - val_precision: 0.0000e+00 - val_recall: 0.0000e+00\n",
      "Epoch 2/10\n",
      "182276/182276 [==============================] - 3s 17us/sample - loss: 0.0284 - accuracy: 0.3395 - tp: 0.0000e+00 - fp: 0.0000e+00 - tn: 181948.0000 - fn: 328.0000 - precision: 0.0000e+00 - recall: 0.0000e+00 - val_loss: 0.0242 - val_accuracy: 0.1037 - val_tp: 0.0000e+00 - val_fp: 0.0000e+00 - val_tn: 45496.0000 - val_fn: 73.0000 - val_precision: 0.0000e+00 - val_recall: 0.0000e+00\n",
      "Epoch 3/10\n",
      "182276/182276 [==============================] - 3s 17us/sample - loss: 0.0108 - accuracy: 0.0394 - tp: 85.0000 - fp: 19.0000 - tn: 181929.0000 - fn: 243.0000 - precision: 0.8173 - recall: 0.2591 - val_loss: 0.0032 - val_accuracy: 0.0285 - val_tp: 57.0000 - val_fp: 16.0000 - val_tn: 45480.0000 - val_fn: 16.0000 - val_precision: 0.7808 - val_recall: 0.7808\n",
      "Epoch 4/10\n",
      "182276/182276 [==============================] - 3s 17us/sample - loss: 0.0036 - accuracy: 0.0361 - tp: 203.0000 - fp: 40.0000 - tn: 181908.0000 - fn: 125.0000 - precision: 0.8354 - recall: 0.6189 - val_loss: 0.0031 - val_accuracy: 0.0355 - val_tp: 57.0000 - val_fp: 16.0000 - val_tn: 45480.0000 - val_fn: 16.0000 - val_precision: 0.7808 - val_recall: 0.7808\n",
      "Epoch 5/10\n",
      "182276/182276 [==============================] - 3s 17us/sample - loss: 0.0030 - accuracy: 0.0489 - tp: 244.0000 - fp: 41.0000 - tn: 181907.0000 - fn: 84.0000 - precision: 0.8561 - recall: 0.7439 - val_loss: 0.0030 - val_accuracy: 0.0494 - val_tp: 58.0000 - val_fp: 16.0000 - val_tn: 45480.0000 - val_fn: 15.0000 - val_precision: 0.7838 - val_recall: 0.7945\n",
      "Epoch 6/10\n",
      "182276/182276 [==============================] - 3s 17us/sample - loss: 0.0028 - accuracy: 0.0725 - tp: 256.0000 - fp: 41.0000 - tn: 181907.0000 - fn: 72.0000 - precision: 0.8620 - recall: 0.7805 - val_loss: 0.0029 - val_accuracy: 0.0918 - val_tp: 59.0000 - val_fp: 14.0000 - val_tn: 45482.0000 - val_fn: 14.0000 - val_precision: 0.8082 - val_recall: 0.8082\n",
      "Epoch 7/10\n",
      "182276/182276 [==============================] - 3s 17us/sample - loss: 0.0026 - accuracy: 0.1083 - tp: 246.0000 - fp: 36.0000 - tn: 181912.0000 - fn: 82.0000 - precision: 0.8723 - recall: 0.7500 - val_loss: 0.0030 - val_accuracy: 0.0535 - val_tp: 56.0000 - val_fp: 15.0000 - val_tn: 45481.0000 - val_fn: 17.0000 - val_precision: 0.7887 - val_recall: 0.7671\n",
      "Epoch 8/10\n",
      "182276/182276 [==============================] - 3s 17us/sample - loss: 0.0024 - accuracy: 0.0987 - tp: 247.0000 - fp: 39.0000 - tn: 181909.0000 - fn: 81.0000 - precision: 0.8636 - recall: 0.7530 - val_loss: 0.0028 - val_accuracy: 0.1294 - val_tp: 59.0000 - val_fp: 15.0000 - val_tn: 45481.0000 - val_fn: 14.0000 - val_precision: 0.7973 - val_recall: 0.8082\n",
      "Epoch 9/10\n",
      "182276/182276 [==============================] - 3s 18us/sample - loss: 0.0022 - accuracy: 0.1574 - tp: 252.0000 - fp: 32.0000 - tn: 181916.0000 - fn: 76.0000 - precision: 0.8873 - recall: 0.7683 - val_loss: 0.0027 - val_accuracy: 0.1479 - val_tp: 58.0000 - val_fp: 14.0000 - val_tn: 45482.0000 - val_fn: 15.0000 - val_precision: 0.8056 - val_recall: 0.7945\n",
      "Epoch 10/10\n",
      "182276/182276 [==============================] - 3s 18us/sample - loss: 0.0021 - accuracy: 0.1842 - tp: 255.0000 - fp: 33.0000 - tn: 181915.0000 - fn: 73.0000 - precision: 0.8854 - recall: 0.7774 - val_loss: 0.0026 - val_accuracy: 0.1392 - val_tp: 58.0000 - val_fp: 14.0000 - val_tn: 45482.0000 - val_fn: 15.0000 - val_precision: 0.8056 - val_recall: 0.7945\n"
     ]
    }
   ],
   "source": [
    "model = make_model()\n",
    "\n",
    "EPOCHS = 10\n",
    "BATCH_SIZE = 2048\n",
    "\n",
    "history = model.fit(\n",
    "    train_features,\n",
    "    train_labels,\n",
    "    batch_size=BATCH_SIZE,\n",
    "    epochs=EPOCHS,\n",
    "    validation_data=(val_features, val_labels))"
   ]
  },
  {
   "cell_type": "markdown",
   "metadata": {},
   "source": [
    "Plot metrics on the training and validation sets\n",
    "In this section, you will produce plots of your model's accuracy and loss on the training and validation set. These are useful to check for overfitting, which you can learn more about in this tutorial.\n",
    "\n",
    "Additionally, you can produce these plots for any of the metrics you created above. False negatives are included as an example."
   ]
  },
  {
   "cell_type": "code",
   "execution_count": 29,
   "metadata": {},
   "outputs": [
    {
     "data": {
      "text/plain": [
       "<matplotlib.legend.Legend at 0x29ac0ca7f98>"
      ]
     },
     "execution_count": 29,
     "metadata": {},
     "output_type": "execute_result"
    },
    {
     "data": {
      "image/png": "[encoded data removed]",
      "text/plain": [
       "<Figure size 432x288 with 1 Axes>"
      ]
     },
     "metadata": {
      "needs_background": "light"
     },
     "output_type": "display_data"
    },
    {
     "data": {
      "image/png": "[encoded data removed]",
      "text/plain": [
       "<Figure size 432x288 with 1 Axes>"
      ]
     },
     "metadata": {
      "needs_background": "light"
     },
     "output_type": "display_data"
    },
    {
     "data": {
      "image/png": "[encoded data removed]",
      "text/plain": [
       "<Figure size 432x288 with 1 Axes>"
      ]
     },
     "metadata": {
      "needs_background": "light"
     },
     "output_type": "display_data"
    }
   ],
   "source": [
    "epochs = range(EPOCHS)\n",
    "\n",
    "plt.title('Accuracy')\n",
    "plt.plot(epochs,  history.history['accuracy'], color='blue', label='Train')\n",
    "plt.plot(epochs, history.history['val_accuracy'], color='orange', label='Val')\n",
    "plt.xlabel('Epoch')\n",
    "plt.ylabel('Accuracy')\n",
    "plt.legend()\n",
    "\n",
    "_ = plt.figure()\n",
    "plt.title('Loss')\n",
    "plt.plot(epochs, history.history['loss'], color='blue', label='Train')\n",
    "plt.plot(epochs, history.history['val_loss'], color='orange', label='Val')\n",
    "plt.xlabel('Epoch')\n",
    "plt.ylabel('Loss')\n",
    "plt.legend()\n",
    "\n",
    "_ = plt.figure()\n",
    "plt.title('False Negatives')\n",
    "plt.plot(epochs, history.history['fn'], color='blue', label='Train')\n",
    "plt.plot(epochs, history.history['val_fn'], color='orange', label='Val')\n",
    "plt.xlabel('Epoch')\n",
    "plt.ylabel('False Negatives')\n",
    "plt.legend()"
   ]
  },
  {
   "cell_type": "markdown",
   "metadata": {},
   "source": [
    "Evaluate the baseline model\n",
    "Evaluate your model on the test dataset and display results for the metrics you created above.\n",
    "\n"
   ]
  },
  {
   "cell_type": "code",
   "execution_count": 30,
   "metadata": {},
   "outputs": [
    {
     "name": "stdout",
     "output_type": "stream",
     "text": [
      "56962/56962 [==============================] - 3s 59us/sample - loss: 0.0028 - accuracy: 0.1399 - tp: 75.0000 - fp: 7.0000 - tn: 56864.0000 - fn: 16.0000 - precision: 0.9146 - recall: 0.8242\n",
      "loss :  0.002778963811212757\n",
      "accuracy :  0.13988273\n",
      "tp :  75.0\n",
      "fp :  7.0\n",
      "tn :  56864.0\n",
      "fn :  16.0\n",
      "precision :  0.91463417\n",
      "recall :  0.82417583\n"
     ]
    }
   ],
   "source": [
    "results = model.evaluate(test_features, test_labels)\n",
    "for name, value in zip(model.metrics_names, results):\n",
    "    \n",
    "    \n",
    "    print(name, ': ', value)"
   ]
  },
  {
   "cell_type": "markdown",
   "metadata": {},
   "source": [
    "It looks like the precision is relatively high, but the recall and AUC aren't as high as you might like. Classifiers often face challenges when trying to maximize both precision and recall, which is especially true when working with imbalanced datasets. However, because missing fraudulent transactions (false negatives) may have significantly worse business consequences than incorrectly flagging fraudulent transactions (false positives), recall may be more important than precision in this case."
   ]
  },
  {
   "cell_type": "markdown",
   "metadata": {},
   "source": [
    "Examine the confusion matrix\n",
    "You can use a confusion matrix to summarize the actual vs. predictmed labels where the X axis is the predicted label and the Y axis is the actual label."
   ]
  },
  {
   "cell_type": "code",
   "execution_count": 31,
   "metadata": {},
   "outputs": [
    {
     "data": {
      "image/png": "[encoded data removed]",
      "text/plain": [
       "<Figure size 288x288 with 1 Axes>"
      ]
     },
     "metadata": {
      "needs_background": "light"
     },
     "output_type": "display_data"
    },
    {
     "name": "stdout",
     "output_type": "stream",
     "text": [
      "Legitimate Transactions Detected (True Negatives):  56864\n",
      "Legitimate Transactions Incorrectly Detected (False Positives):  7\n",
      "Fraudulent Transactions Missed (False Negatives):  16\n",
      "Fraudulent Transactions Detected (True Positives):  75\n",
      "Total Fraudulent Transactions:  91\n"
     ]
    }
   ],
   "source": [
    "predicted_labels = model.predict(test_features)\n",
    "cm = confusion_matrix(test_labels, np.round(predicted_labels))\n",
    "\n",
    "plt.matshow(cm, alpha=0)\n",
    "plt.title('Confusion matrix')\n",
    "plt.ylabel('Actual label')\n",
    "plt.xlabel('Predicted label')\n",
    "\n",
    "for (i, j), z in np.ndenumerate(cm):\n",
    "    plt.text(j, i, str(z), ha='center', va='center')\n",
    "    \n",
    "plt.show()\n",
    "\n",
    "print('Legitimate Transactions Detected (True Negatives): ', cm[0][0])\n",
    "print('Legitimate Transactions Incorrectly Detected (False Positives): ', cm[0][1])\n",
    "print('Fraudulent Transactions Missed (False Negatives): ', cm[1][0])\n",
    "print('Fraudulent Transactions Detected (True Positives): ', cm[1][1])\n",
    "print('Total Fraudulent Transactions: ', np.sum(cm[1]))"
   ]
  },
  {
   "cell_type": "markdown",
   "metadata": {},
   "source": [
    "If the model had predicted everything perfectly, this would be a diagonal matrix where values off the main diagonal, indicating incorrect predictions, would be zero. In this case the matrix shows that you have relatively few false positives, meaning that there were relatively few legitimate transactions that were incorrectly flagged. However, you would likely want to have even fewer false negatives despite the cost of increasing the number of false positives. This trade off may be preferable because false negatives would allow fraudulent transactions to go through, whereas false positives may cause an email to be sent to a customer to ask them to verify their card activity.\n",
    "\n",
    "Using class weights for the loss function\n",
    "The goal is to identify fradulent transactions, but you don't have very many of those positive samples to work with, so you would want to have the classifier heavily weight the few examples that are available. You can do this by passing Keras weights for each class through a parameter. These will cause the model to \"pay more attention\" to examples from an under-represented class."
   ]
  },
  {
   "cell_type": "markdown",
   "metadata": {},
   "source": [
    "------"
   ]
  },
  {
   "cell_type": "markdown",
   "metadata": {},
   "source": [
    "Using class weights for the loss function\n",
    "The goal is to identify fradulent transactions, but you don't have very many of those positive samples to work with, so you would want to have the classifier heavily weight the few examples that are available. You can do this by passing Keras weights for each class through a parameter. These will cause the model to \"pay more attention\" to examples from an under-represented class."
   ]
  },
  {
   "cell_type": "code",
   "execution_count": 32,
   "metadata": {},
   "outputs": [
    {
     "name": "stdout",
     "output_type": "stream",
     "text": [
      "Weight for class 0: 5.50e-06\n",
      "Weight for class 1: 3.05e-03\n"
     ]
    }
   ],
   "source": [
    "weight_for_0 = 1 / neg\n",
    "weight_for_1 = 1 / pos\n",
    "\n",
    "class_weight = {0: weight_for_0, 1: weight_for_1}\n",
    "\n",
    "print('Weight for class 0: {:.2e}'.format(weight_for_0))\n",
    "print('Weight for class 1: {:.2e}'.format(weight_for_1))"
   ]
  },
  {
   "cell_type": "markdown",
   "metadata": {},
   "source": [
    "Train a model with class weights\n",
    "Now try re-training and evaluating the model with class weights to see how that affects the predictions.\n",
    "\n",
    "Note: Using class_weights changes the range of the loss. This may affect the stability of the training depending on the optimizer. Optimizers who's step size is dependent on the magnitude of the gradient, like optimizers.SGD, may fail. The optimizer used here, optimizers.Adam, is unaffected by the scaling change. Also note that because of the weighting, the total losses are not comparable between the two models."
   ]
  },
  {
   "cell_type": "code",
   "execution_count": 33,
   "metadata": {},
   "outputs": [
    {
     "name": "stdout",
     "output_type": "stream",
     "text": [
      "Train on 182276 samples, validate on 45569 samples\n",
      "Epoch 1/10\n",
      "182276/182276 [==============================] - 5s 29us/sample - loss: 0.2770 - accuracy: 0.0015 - tp: 285.0000 - fp: 8561.0000 - tn: 173387.0000 - fn: 43.0000 - precision: 0.0322 - recall: 0.8689 - val_loss: 0.0971 - val_accuracy: 0.0019 - val_tp: 67.0000 - val_fp: 894.0000 - val_tn: 44602.0000 - val_fn: 6.0000 - val_precision: 0.0697 - val_recall: 0.9178\n",
      "Epoch 2/10\n",
      "182276/182276 [==============================] - 4s 22us/sample - loss: 0.1570 - accuracy: 0.0032 - tp: 300.0000 - fp: 4477.0000 - tn: 177471.0000 - fn: 28.0000 - precision: 0.0628 - recall: 0.9146 - val_loss: 0.0570 - val_accuracy: 0.0039 - val_tp: 66.0000 - val_fp: 444.0000 - val_tn: 45052.0000 - val_fn: 7.0000 - val_precision: 0.1294 - val_recall: 0.9041\n",
      "Epoch 3/10\n",
      "182276/182276 [==============================] - 4s 21us/sample - loss: 0.1414 - accuracy: 0.0047 - tp: 299.0000 - fp: 4481.0000 - tn: 177467.0000 - fn: 29.0000 - precision: 0.0626 - recall: 0.9116 - val_loss: 0.0515 - val_accuracy: 0.0044 - val_tp: 66.0000 - val_fp: 436.0000 - val_tn: 45060.0000 - val_fn: 7.0000 - val_precision: 0.1315 - val_recall: 0.9041\n",
      "Epoch 4/10\n",
      "182276/182276 [==============================] - 4s 21us/sample - loss: 0.1399 - accuracy: 0.0065 - tp: 309.0000 - fp: 4308.0000 - tn: 177640.0000 - fn: 19.0000 - precision: 0.0669 - recall: 0.9421 - val_loss: 0.0656 - val_accuracy: 0.0048 - val_tp: 66.0000 - val_fp: 586.0000 - val_tn: 44910.0000 - val_fn: 7.0000 - val_precision: 0.1012 - val_recall: 0.9041\n",
      "Epoch 5/10\n",
      "182276/182276 [==============================] - 4s 22us/sample - loss: 0.1150 - accuracy: 0.0077 - tp: 310.0000 - fp: 4579.0000 - tn: 177369.0000 - fn: 18.0000 - precision: 0.0634 - recall: 0.9451 - val_loss: 0.0553 - val_accuracy: 0.0075 - val_tp: 66.0000 - val_fp: 677.0000 - val_tn: 44819.0000 - val_fn: 7.0000 - val_precision: 0.0888 - val_recall: 0.9041\n",
      "Epoch 6/10\n",
      "182276/182276 [==============================] - 4s 23us/sample - loss: 0.0826 - accuracy: 0.0134 - tp: 316.0000 - fp: 3577.0000 - tn: 178371.0000 - fn: 12.0000 - precision: 0.0812 - recall: 0.9634 - val_loss: 0.0741 - val_accuracy: 0.0127 - val_tp: 66.0000 - val_fp: 1287.0000 - val_tn: 44209.0000 - val_fn: 7.0000 - val_precision: 0.0488 - val_recall: 0.9041\n",
      "Epoch 7/10\n",
      "182276/182276 [==============================] - 4s 22us/sample - loss: 0.0795 - accuracy: 0.0270 - tp: 321.0000 - fp: 3423.0000 - tn: 178525.0000 - fn: 7.0000 - precision: 0.0857 - recall: 0.9787 - val_loss: 0.0266 - val_accuracy: 0.0320 - val_tp: 64.0000 - val_fp: 315.0000 - val_tn: 45181.0000 - val_fn: 9.0000 - val_precision: 0.1689 - val_recall: 0.8767\n",
      "Epoch 8/10\n",
      "182276/182276 [==============================] - 4s 22us/sample - loss: 0.0690 - accuracy: 0.0448 - tp: 322.0000 - fp: 2472.0000 - tn: 179476.0000 - fn: 6.0000 - precision: 0.1152 - recall: 0.9817 - val_loss: 0.0302 - val_accuracy: 0.0503 - val_tp: 66.0000 - val_fp: 377.0000 - val_tn: 45119.0000 - val_fn: 7.0000 - val_precision: 0.1490 - val_recall: 0.9041\n",
      "Epoch 9/10\n",
      "182276/182276 [==============================] - 4s 22us/sample - loss: 0.0575 - accuracy: 0.0707 - tp: 323.0000 - fp: 2620.0000 - tn: 179328.0000 - fn: 5.0000 - precision: 0.1098 - recall: 0.9848 - val_loss: 0.0524 - val_accuracy: 0.0855 - val_tp: 66.0000 - val_fp: 783.0000 - val_tn: 44713.0000 - val_fn: 7.0000 - val_precision: 0.0777 - val_recall: 0.9041\n",
      "Epoch 10/10\n",
      "182276/182276 [==============================] - 4s 21us/sample - loss: 0.0640 - accuracy: 0.1019 - tp: 322.0000 - fp: 2408.0000 - tn: 179540.0000 - fn: 6.0000 - precision: 0.1179 - recall: 0.9817 - val_loss: 0.0370 - val_accuracy: 0.1256 - val_tp: 66.0000 - val_fp: 552.0000 - val_tn: 44944.0000 - val_fn: 7.0000 - val_precision: 0.1068 - val_recall: 0.9041\n"
     ]
    }
   ],
   "source": [
    "weighted_model = make_model()\n",
    "\n",
    "weighted_history = weighted_model.fit(\n",
    "    train_features,\n",
    "    train_labels,\n",
    "    batch_size=BATCH_SIZE,\n",
    "    epochs=EPOCHS,\n",
    "    validation_data=(val_features, val_labels),\n",
    "    class_weight=class_weight)"
   ]
  },
  {
   "cell_type": "code",
   "execution_count": 35,
   "metadata": {},
   "outputs": [
    {
     "name": "stdout",
     "output_type": "stream",
     "text": [
      "56962/56962 [==============================] - 3s 45us/sample - loss: 0.0340 - accuracy: 0.1266 - tp: 81.0000 - fp: 707.0000 - tn: 56164.0000 - fn: 10.0000 - precision: 0.1028 - recall: 0.8901\n",
      "loss :  0.03403136855135392\n",
      "accuracy :  0.12662828\n",
      "tp :  81.0\n",
      "fp :  707.0\n",
      "tn :  56164.0\n",
      "fn :  10.0\n",
      "precision :  0.102791876\n",
      "recall :  0.8901099\n"
     ]
    }
   ],
   "source": [
    "weighted_results = weighted_model.evaluate(test_features, test_labels)\n",
    "for name, value in zip(weighted_model.metrics_names, weighted_results):\n",
    "    print(name, ': ', value)"
   ]
  },
  {
   "cell_type": "markdown",
   "metadata": {},
   "source": [
    "-------"
   ]
  },
  {
   "cell_type": "markdown",
   "metadata": {},
   "source": [
    "Here you can see that with class weights the accuracy and precision are lower because there are more false positives, but conversely the recall and AUC are higher because the model also found more true positives. Despite having lower overall accuracy, this approach may be better when considering the consequences of failing to identify fraudulent transactions driving the prioritization of recall. Depending on how bad false negatives are, you might use even more exaggerated weights to further improve recall while dropping precision.\n",
    "\n",
    "Oversampling the minority class\n",
    "A related approach would be to resample the dataset by oversampling the minority class, which is the process of creating more positive samples using something like sklearn's imbalanced-learn library. This library provides methods to create new positive samples by simply duplicating random existing samples, or by interpolating between them to generate synthetic samples using variations of SMOTE. TensorFlow also provides a way to do Random Oversampling."
   ]
  },
  {
   "cell_type": "code",
   "execution_count": 37,
   "metadata": {},
   "outputs": [
    {
     "name": "stdout",
     "output_type": "stream",
     "text": [
      "181948 positive samples out of 363896 training samples (50.00% of total)\n"
     ]
    }
   ],
   "source": [
    "# with default args this will oversample the minority class to have an equal\n",
    "# number of observations\n",
    "smote = SMOTE()\n",
    "res_features, res_labels = smote.fit_sample(train_features, train_labels)\n",
    "\n",
    "res_neg, res_pos = np.bincount(res_labels)\n",
    "res_total = res_neg + res_pos\n",
    "print('{} positive samples out of {} training samples ({:.2f}% of total)'.format(\n",
    "    res_pos, res_total, 100 * res_pos / res_total))"
   ]
  },
  {
   "cell_type": "markdown",
   "metadata": {},
   "source": [
    "Train and evaluate a model on the resampled data\n",
    "Now try training the model with the resampled data set instead of using class weights to see how these methods compare."
   ]
  },
  {
   "cell_type": "code",
   "execution_count": 38,
   "metadata": {},
   "outputs": [
    {
     "name": "stdout",
     "output_type": "stream",
     "text": [
      "Train on 363896 samples, validate on 45569 samples\n",
      "Epoch 1/10\n",
      "363896/363896 [==============================] - 9s 24us/sample - loss: 0.0671 - accuracy: 0.3367 - tp: 176658.0000 - fp: 4737.0000 - tn: 177211.0000 - fn: 5290.0000 - precision: 0.9739 - recall: 0.9709 - val_loss: 0.0140 - val_accuracy: 0.4651 - val_tp: 64.0000 - val_fp: 126.0000 - val_tn: 45370.0000 - val_fn: 9.0000 - val_precision: 0.3368 - val_recall: 0.8767\n",
      "Epoch 2/10\n",
      "363896/363896 [==============================] - 7s 19us/sample - loss: 0.0072 - accuracy: 0.6617 - tp: 181886.0000 - fp: 411.0000 - tn: 181537.0000 - fn: 62.0000 - precision: 0.9977 - recall: 0.9997 - val_loss: 0.0121 - val_accuracy: 0.7355 - val_tp: 64.0000 - val_fp: 82.0000 - val_tn: 45414.0000 - val_fn: 9.0000 - val_precision: 0.4384 - val_recall: 0.8767\n",
      "Epoch 3/10\n",
      "363896/363896 [==============================] - 7s 20us/sample - loss: 0.0037 - accuracy: 0.6600 - tp: 181928.0000 - fp: 196.0000 - tn: 181752.0000 - fn: 20.0000 - precision: 0.9989 - recall: 0.9999 - val_loss: 0.0086 - val_accuracy: 0.8786 - val_tp: 64.0000 - val_fp: 37.0000 - val_tn: 45459.0000 - val_fn: 9.0000 - val_precision: 0.6337 - val_recall: 0.8767\n",
      "Epoch 4/10\n",
      "363896/363896 [==============================] - 7s 20us/sample - loss: 0.0029 - accuracy: 0.6741 - tp: 181933.0000 - fp: 152.0000 - tn: 181796.0000 - fn: 15.0000 - precision: 0.9992 - recall: 0.9999 - val_loss: 0.0094 - val_accuracy: 0.9039 - val_tp: 64.0000 - val_fp: 51.0000 - val_tn: 45445.0000 - val_fn: 9.0000 - val_precision: 0.5565 - val_recall: 0.8767\n",
      "Epoch 5/10\n",
      "363896/363896 [==============================] - 7s 20us/sample - loss: 0.0024 - accuracy: 0.6921 - tp: 181941.0000 - fp: 119.0000 - tn: 181829.0000 - fn: 7.0000 - precision: 0.9993 - recall: 1.0000 - val_loss: 0.0085 - val_accuracy: 0.9380 - val_tp: 62.0000 - val_fp: 36.0000 - val_tn: 45460.0000 - val_fn: 11.0000 - val_precision: 0.6327 - val_recall: 0.8493\n",
      "Epoch 6/10\n",
      "363896/363896 [==============================] - 7s 20us/sample - loss: 0.0022 - accuracy: 0.7341 - tp: 181937.0000 - fp: 105.0000 - tn: 181843.0000 - fn: 11.0000 - precision: 0.9994 - recall: 0.9999 - val_loss: 0.0092 - val_accuracy: 0.9499 - val_tp: 62.0000 - val_fp: 38.0000 - val_tn: 45458.0000 - val_fn: 11.0000 - val_precision: 0.6200 - val_recall: 0.8493\n",
      "Epoch 7/10\n",
      "363896/363896 [==============================] - 7s 20us/sample - loss: 0.0020 - accuracy: 0.7187 - tp: 181938.0000 - fp: 91.0000 - tn: 181857.0000 - fn: 10.0000 - precision: 0.9995 - recall: 0.9999 - val_loss: 0.0086 - val_accuracy: 0.9487 - val_tp: 62.0000 - val_fp: 38.0000 - val_tn: 45458.0000 - val_fn: 11.0000 - val_precision: 0.6200 - val_recall: 0.8493\n",
      "Epoch 8/10\n",
      "363896/363896 [==============================] - 8s 21us/sample - loss: 0.0018 - accuracy: 0.7301 - tp: 181943.0000 - fp: 82.0000 - tn: 181866.0000 - fn: 5.0000 - precision: 0.9995 - recall: 1.0000 - val_loss: 0.0092 - val_accuracy: 0.9657 - val_tp: 62.0000 - val_fp: 42.0000 - val_tn: 45454.0000 - val_fn: 11.0000 - val_precision: 0.5962 - val_recall: 0.8493\n",
      "Epoch 9/10\n",
      "363896/363896 [==============================] - 8s 21us/sample - loss: 0.0023 - accuracy: 0.7415 - tp: 181931.0000 - fp: 104.0000 - tn: 181844.0000 - fn: 17.0000 - precision: 0.9994 - recall: 0.9999 - val_loss: 0.0087 - val_accuracy: 0.9581 - val_tp: 64.0000 - val_fp: 32.0000 - val_tn: 45464.0000 - val_fn: 9.0000 - val_precision: 0.6667 - val_recall: 0.87672 - tp: 111747.0000 - fp: 66.0000 - tn: 111406.0000 - fn: 13.\n",
      "Epoch 10/10\n",
      "363896/363896 [==============================] - 7s 21us/sample - loss: 0.0018 - accuracy: 0.7408 - tp: 181934.0000 - fp: 77.0000 - tn: 181871.0000 - fn: 14.0000 - precision: 0.9996 - recall: 0.9999 - val_loss: 0.0096 - val_accuracy: 0.9703 - val_tp: 63.0000 - val_fp: 42.0000 - val_tn: 45454.0000 - val_fn: 10.0000 - val_precision: 0.6000 - val_recall: 0.8630\n"
     ]
    }
   ],
   "source": [
    "resampled_model = make_model()\n",
    "\n",
    "resampled_history = resampled_model.fit(\n",
    "    res_features,\n",
    "    res_labels,\n",
    "    batch_size=BATCH_SIZE,\n",
    "    epochs=EPOCHS,\n",
    "    validation_data=(val_features, val_labels))"
   ]
  },
  {
   "cell_type": "code",
   "execution_count": 39,
   "metadata": {},
   "outputs": [
    {
     "name": "stdout",
     "output_type": "stream",
     "text": [
      "56962/56962 [==============================] - 3s 46us/sample - loss: 0.0073 - accuracy: 0.9692 - tp: 76.0000 - fp: 36.0000 - tn: 56835.0000 - fn: 15.0000 - precision: 0.6786 - recall: 0.8352\n",
      "loss :  0.007298611600600706\n",
      "accuracy :  0.9692075\n",
      "tp :  76.0\n",
      "fp :  36.0\n",
      "tn :  56835.0\n",
      "fn :  15.0\n",
      "precision :  0.6785714\n",
      "recall :  0.83516484\n"
     ]
    }
   ],
   "source": [
    "resampled_results = resampled_model.evaluate(test_features, test_labels)\n",
    "for name, value in zip(resampled_model.metrics_names, resampled_results):\n",
    "    print(name, ': ', value)"
   ]
  },
  {
   "cell_type": "markdown",
   "metadata": {},
   "source": [
    "This approach can be worth trying, but may not provide better results than using class weights because the synthetic examples may not accurately represent the underlying data.\n",
    "\n",
    "Applying this tutorial to your problem\n",
    "Imbalanced data classification is an inherantly difficult task since there are so few samples to learn from. You should always start with the data first and do your best to collect as many samples as possible and give substantial thought to what features may be relevant so the model can get the most out of your minority class. At some point your model may struggle to improve and yield the results you want, so it is important to keep in mind the context of the problem to evaluate how bad your false positives or negatives really are."
   ]
  }
 ],
 "metadata": {
  "kernelspec": {
   "display_name": "Python 3",
   "language": "python",
   "name": "python3"
  },
  "language_info": {
   "codemirror_mode": {
    "name": "ipython",
    "version": 3
   },
   "file_extension": ".py",
   "mimetype": "text/x-python",
   "name": "python",
   "nbconvert_exporter": "python",
   "pygments_lexer": "ipython3",
   "version": "3.7.3"
  }
 },
 "nbformat": 4,
 "nbformat_minor": 2
}
